{
  "nbformat": 4,
  "nbformat_minor": 0,
  "metadata": {
    "colab": {
      "provenance": [],
      "authorship_tag": "ABX9TyO/D9E0mRsyZ1ilHnAOGSVo",
      "include_colab_link": true
    },
    "kernelspec": {
      "name": "python3",
      "display_name": "Python 3"
    },
    "language_info": {
      "name": "python"
    }
  },
  "cells": [
    {
      "cell_type": "markdown",
      "metadata": {
        "id": "view-in-github",
        "colab_type": "text"
      },
      "source": [
        "<a href=\"https://colab.research.google.com/github/ccn700/HW/blob/main/HW%204.ipynb\" target=\"_parent\"><img src=\"https://colab.research.google.com/assets/colab-badge.svg\" alt=\"Open In Colab\"/></a>"
      ]
    },
    {
      "cell_type": "markdown",
      "source": [
        "Proc 1. Описать процедуру PowerA3(A, B), вычисляющую третью степень числа A и возвращающую ее в переменной B (A — входной, B — выходной параметр; оба параметра являются вещественными). С помощью этой процедуры найти третьи степени пяти данных чисел."
      ],
      "metadata": {
        "id": "GziKQANyqEF1"
      }
    },
    {
      "cell_type": "code",
      "execution_count": 2,
      "metadata": {
        "id": "B4Alj4jNizYB",
        "colab": {
          "base_uri": "https://localhost:8080/"
        },
        "outputId": "d390ecc8-f9df-47fc-fd69-64e820d5c27b"
      },
      "outputs": [
        {
          "output_type": "stream",
          "name": "stdout",
          "text": [
            "A 0\n",
            "B 0\n",
            "A -0.006233662068570567\n",
            "B -2.4223102419962547e-07\n"
          ]
        }
      ],
      "source": [
        "import random\n",
        "def PowerA3(A):\n",
        "   return A*A*A\n",
        "A = random.randrange(-10,10)\n",
        "B = PowerA3(A)\n",
        "print('A', A)\n",
        "print('B', B)\n",
        "A = random.uniform(-10,10)\n",
        "B = PowerA3(A)\n",
        "print('A', A)\n",
        "print('B', B)"
      ]
    },
    {
      "cell_type": "markdown",
      "source": [
        "Proc 2. Описать процедуру PowerA234(A, B, C, D), вычисляющую вторую, третью и четвертую степень числа A и возвращающую эти степени соответственно в переменных B, C и D (A — входной, B, C, D — выходные параметры; все параметры являются вещественными). С помощью этой процедуры найти вторую, третью и четвертую степень пяти данных чисел."
      ],
      "metadata": {
        "id": "eXXPcHMFqTuc"
      }
    },
    {
      "cell_type": "code",
      "source": [
        "import random\n",
        "def PowerA234(A,B):\n",
        "   B[0] = A * A\n",
        "   B[1] = B[0] * A\n",
        "   B[2] = B[1] * A\n",
        "   return\n",
        "A = random.randrange(-10,10)\n",
        "B = [None] * 3\n",
        "PowerA234(A,B)\n",
        "print('A', A)\n",
        "print('B', B)\n",
        "A = random.uniform(-10,10)\n",
        "PowerA234(A,B)\n",
        "print('A', A)\n",
        "print('B', B)"
      ],
      "metadata": {
        "colab": {
          "base_uri": "https://localhost:8080/"
        },
        "id": "SnhbZDbiqaYQ",
        "outputId": "719022cf-50e8-467b-ee6d-f6b97c301ffb"
      },
      "execution_count": 4,
      "outputs": [
        {
          "output_type": "stream",
          "name": "stdout",
          "text": [
            "A -10\n",
            "B [100, -1000, 10000]\n",
            "A -4.3449066055976004\n",
            "B [18.878213411365664, -82.02407415292389, 356.3869416050664]\n"
          ]
        }
      ]
    },
    {
      "cell_type": "markdown",
      "source": [
        "Proc 3. Описать процедуру Mean(X, Y, AMean, GMean), вычисляющую среднее арифметическое AMean = (X +Y )/2 и среднее геометрическое GMean=X⋅Y−−−−√\n",
        " двух положительных чисел X и Y (X и Y — входные, AMean и GMean — выходные параметры вещественного типа). С помощью этой процедуры найти среднее арифметическое и среднее геометрическое для пар (A, B), (A, C), (A, D), если даны A, B, C, D."
      ],
      "metadata": {
        "id": "gaypZbY7qirh"
      }
    },
    {
      "cell_type": "code",
      "source": [
        "import random\n",
        "import math\n",
        "def Mean(X,Y,Result):\n",
        "   Result['AMean'] = (X + Y) / 2\n",
        "   Result['GMean'] = math.sqrt(X * Y)\n",
        "   return\n",
        "R = {'AMean' : None, 'GMean' : None}\n",
        "#A = random.uniform(-10,10)\n",
        "A = random.randrange(0,10)\n",
        "B = random.randrange(0,10)\n",
        "C = random.randrange(0,10)\n",
        "D = random.randrange(0,10)\n",
        "print('A = ', A)\n",
        "print('B = ', B)\n",
        "print('C = ', C)\n",
        "print('D = ', D)\n",
        "print(\"(A,B)\")\n",
        "Mean(A,B,R)\n",
        "print('AMean = ', R['AMean'])\n",
        "print('GMean = ', R['GMean'])\n",
        "print(\"(A,C)\")\n",
        "Mean(A,C,R)\n",
        "print('AMean = ', R['AMean'])\n",
        "print('GMean = ', R['GMean'])\n",
        "print(\"(A,D)\")\n",
        "Mean(A,D,R)\n",
        "print('AMean = ', R['AMean'])\n",
        "print('GMean = ', R['GMean'])\n"
      ],
      "metadata": {
        "colab": {
          "base_uri": "https://localhost:8080/"
        },
        "id": "dYCNlHBeqjt6",
        "outputId": "35a265b9-61c6-434d-a1f4-0ab771de13d7"
      },
      "execution_count": 5,
      "outputs": [
        {
          "output_type": "stream",
          "name": "stdout",
          "text": [
            "A =  3\n",
            "B =  6\n",
            "C =  5\n",
            "D =  1\n",
            "(A,B)\n",
            "AMean =  4.5\n",
            "GMean =  4.242640687119285\n",
            "(A,C)\n",
            "AMean =  4.0\n",
            "GMean =  3.872983346207417\n",
            "(A,D)\n",
            "AMean =  2.0\n",
            "GMean =  1.7320508075688772\n"
          ]
        }
      ]
    },
    {
      "cell_type": "markdown",
      "source": [
        "Proc 4. Описать процедуру TrianglePS(a, P, S), вычисляющую по стороне a равностороннего треугольника его периметр P=3⋅a\n",
        " и площадь S=a2⋅3–√/4\n",
        " (a — входной, P и S — выходные параметры; все параметры являются вещественными). С помощью этой процедуры найти периметры и площади трех равносторонних треугольников с данными сторонами."
      ],
      "metadata": {
        "id": "rMEJ2G9Cqsvf"
      }
    },
    {
      "cell_type": "code",
      "source": [
        "import random\n",
        "import math\n",
        "def TrianglePS(a,Result):\n",
        "   Result['P'] = 3 * a\n",
        "   Result['S'] = math.sqrt(3)/4 * a * a\n",
        "   return\n",
        "R = {'P' : None, 'S' : None}\n",
        "for i in range(3):\n",
        "    a = random.randrange(1,10)\n",
        "    print('a = ', a)\n",
        "    TrianglePS(a,R)\n",
        "    print('P = ', R['P'])\n",
        "    print('S = ', R['S'])\n",
        "    print()"
      ],
      "metadata": {
        "colab": {
          "base_uri": "https://localhost:8080/"
        },
        "id": "zm3UIpnhqtM2",
        "outputId": "c7c4677d-291c-4bf5-f369-1c737ce8953c"
      },
      "execution_count": 6,
      "outputs": [
        {
          "output_type": "stream",
          "name": "stdout",
          "text": [
            "a =  1\n",
            "P =  3\n",
            "S =  0.4330127018922193\n",
            "\n",
            "a =  8\n",
            "P =  24\n",
            "S =  27.712812921102035\n",
            "\n",
            "a =  6\n",
            "P =  18\n",
            "S =  15.588457268119896\n",
            "\n"
          ]
        }
      ]
    },
    {
      "cell_type": "markdown",
      "source": [
        "Proc 5. Описать процедуру RectPS(x1,y1,x2,y2,P,S)\n",
        ", вычисляющую периметр P и площадь S прямоугольника со сторонами, параллельными осям координат, по координатам (x1,y1)\n",
        ", (x2,y2)\n",
        " его противоположных вершин (x1,y1,x2,y2\n",
        " — входные, P и S — выходные параметры вещественного типа). С помощью этой процедуры найти периметры и площади трех прямоугольников с данными противоположными вершинами."
      ],
      "metadata": {
        "id": "Bf4lg8QLqxSM"
      }
    },
    {
      "cell_type": "code",
      "source": [
        "import random\n",
        "def RectPS(x1,y1,x2,y2,Result):\n",
        "    a = abs(x1-x2)\n",
        "    b = abs(y1-y2)\n",
        "    print(\"a\", a)\n",
        "    print(\"b\", b)\n",
        "    Result['P'] = 2*(a+b)\n",
        "    Result['S'] = a*b\n",
        "    return\n",
        "x1, x2 = random.sample(range(-10, 10), 2)\n",
        "y1, y2 = random.sample(range(-10, 10), 2)\n",
        "print(\"x1\",x1,\"; y1\",y1)\n",
        "print(\"x2\",x2,\"; y2\",y2)\n",
        "R = {'P' : None, 'S' : None}\n",
        "RectPS(x1,y1,x2,y2,R)\n",
        "print('P = ', R['P'])\n",
        "print('S = ', R['S'])"
      ],
      "metadata": {
        "colab": {
          "base_uri": "https://localhost:8080/"
        },
        "id": "8K0MXjqaq2gL",
        "outputId": "83640f2e-be7d-4423-ccee-c27186934f2e"
      },
      "execution_count": 7,
      "outputs": [
        {
          "output_type": "stream",
          "name": "stdout",
          "text": [
            "x1 -4 ; y1 -1\n",
            "x2 -9 ; y2 4\n",
            "a 5\n",
            "b 5\n",
            "P =  20\n",
            "S =  25\n"
          ]
        }
      ]
    },
    {
      "cell_type": "markdown",
      "source": [
        "Вариант 4\n",
        "1.\tДаны натуральные числа K и N. Составить процедуру (функцию) формирования массива A, элементами которого являются числа, сумма цифр которых равна K и которые не больше N.\n"
      ],
      "metadata": {
        "id": "n8f2uisdq8Nm"
      }
    },
    {
      "cell_type": "code",
      "source": [
        "def sum_digits(num):\n",
        "    return sum(int(digit) for digit in str(num))\n",
        "def generate_array(K, N):\n",
        "    return [num for num in range(1, N + 1) if sum_digits(num) == K]\n",
        "K = int(input(\"Введите K\"))\n",
        "N = int(input(\"Введите N\"))\n",
        "result = generate_array(K, N)\n",
        "print(\"Массив чисел:\", result)"
      ],
      "metadata": {
        "colab": {
          "base_uri": "https://localhost:8080/"
        },
        "id": "xDtfmJlHsLGp",
        "outputId": "ccb1c363-eda0-4654-c62a-4ba8239467a3"
      },
      "execution_count": 13,
      "outputs": [
        {
          "output_type": "stream",
          "name": "stdout",
          "text": [
            "Введите K6\n",
            "Введите N6\n",
            "Массив чисел: [6]\n"
          ]
        }
      ]
    },
    {
      "cell_type": "markdown",
      "source": [
        "2.\tСоставить функцию нахождения наименьшего общего кратного трех натуральных чисел."
      ],
      "metadata": {
        "id": "DybDWvspserg"
      }
    },
    {
      "cell_type": "code",
      "source": [
        "import math\n",
        "def lcm_two(a, b):\n",
        "    return a * b // math.gcd(a, b)\n",
        "def lcm_three(a, b, c):\n",
        "    return lcm_two(lcm_two(a, b), c)\n",
        "a = int(input(\"Введите первое число: \"))\n",
        "b = int(input(\"Введите второе число: \"))\n",
        "c = int(input(\"Введите третье число: \"))\n",
        "result = lcm_three(a, b, c)\n",
        "print(\"НОК трёх чисел:\", result)"
      ],
      "metadata": {
        "colab": {
          "base_uri": "https://localhost:8080/"
        },
        "id": "1WPfT6d3sjyA",
        "outputId": "314c0d5e-cc2d-427e-9e79-c9d04ca02acc"
      },
      "execution_count": 15,
      "outputs": [
        {
          "output_type": "stream",
          "name": "stdout",
          "text": [
            "Введите первое число: 3\n",
            "Введите второе число: 6\n",
            "Введите третье число: 12\n",
            "НОК трёх чисел: 12\n"
          ]
        }
      ]
    },
    {
      "cell_type": "markdown",
      "source": [
        "3.\tОписать рекурсивную функцию Root(f, b, ε), которая методом деления отрезка пополам  находит с точностью ε корень уравнения f(x) = 0 на отрезке [а, b] (считать, что ε > 0, а < b, f(a} • f(b) < 0 и f(x)- непрерывная и монотонная  на отрезке [а, b])."
      ],
      "metadata": {
        "id": "zrhuM3QntCv1"
      }
    },
    {
      "cell_type": "code",
      "source": [
        "def Root(f, a, b, epsilon):\n",
        "    c = (a + b) / 2\n",
        "    if abs(f(c)) < epsilon:\n",
        "        return c\n",
        "    elif f(a) * f(c) < 0:\n",
        "        return Root(f, a, c, epsilon)\n",
        "    else:\n",
        "        return Root(f, c, b, epsilon)\n",
        "def f(x):\n",
        "    return x ** 2 - 2\n",
        "a = 0\n",
        "b = 2\n",
        "epsilon = 0.001\n",
        "root = Root(f, a, b, epsilon)\n",
        "print(\"Корень уравнения:\", root)"
      ],
      "metadata": {
        "colab": {
          "base_uri": "https://localhost:8080/"
        },
        "id": "iNuef6APtKwg",
        "outputId": "ba895a27-979f-4700-f4c5-b731e40b97f1"
      },
      "execution_count": 18,
      "outputs": [
        {
          "output_type": "stream",
          "name": "stdout",
          "text": [
            "Корень уравнения: 1.4140625\n"
          ]
        }
      ]
    }
  ]
}