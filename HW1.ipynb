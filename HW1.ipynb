{
  "nbformat": 4,
  "nbformat_minor": 0,
  "metadata": {
    "colab": {
      "provenance": [],
      "authorship_tag": "ABX9TyMa++tf4GB9wmReAtFsJEua",
      "include_colab_link": true
    },
    "kernelspec": {
      "name": "python3",
      "display_name": "Python 3"
    },
    "language_info": {
      "name": "python"
    }
  },
  "cells": [
    {
      "cell_type": "markdown",
      "metadata": {
        "id": "view-in-github",
        "colab_type": "text"
      },
      "source": [
        "<a href=\"https://colab.research.google.com/github/ccn700/HW/blob/main/HW1.ipynb\" target=\"_parent\"><img src=\"https://colab.research.google.com/assets/colab-badge.svg\" alt=\"Open In Colab\"/></a>"
      ]
    },
    {
      "cell_type": "markdown",
      "source": [
        "1"
      ],
      "metadata": {
        "id": "XN9qmMFBuUDI"
      }
    },
    {
      "cell_type": "code",
      "execution_count": 2,
      "metadata": {
        "id": "B4Alj4jNizYB",
        "outputId": "a834a205-4c50-488c-d90e-3735234fd15a",
        "colab": {
          "base_uri": "https://localhost:8080/"
        }
      },
      "outputs": [
        {
          "output_type": "stream",
          "name": "stdout",
          "text": [
            "x=24\n",
            "y=57\n",
            "1394.119341563786\n"
          ]
        }
      ],
      "source": [
        " t(input('x='))\n",
        "y=int(input('y='))\n",
        "z=x*y-(x**3-y**3)/(x**2+2*x*y+y**2)\n",
        "print(z)"
      ]
    },
    {
      "cell_type": "markdown",
      "source": [
        "2"
      ],
      "metadata": {
        "id": "w59stHiGuTLD"
      }
    },
    {
      "cell_type": "code",
      "source": [
        "import math\n",
        "x=int(input('x='))\n",
        "y=int(input('y='))\n",
        "z=x**3*math.log10(x)+math.log10(4*math.sqrt(x)+5)\n",
        "print(z)"
      ],
      "metadata": {
        "id": "zeN8jcfkjpsD",
        "outputId": "aba8fcb0-9d9b-40e5-8662-e1c0183bfbf2",
        "colab": {
          "base_uri": "https://localhost:8080/"
        }
      },
      "execution_count": 4,
      "outputs": [
        {
          "output_type": "stream",
          "name": "stdout",
          "text": [
            "x=3\n",
            "y=4\n",
            "13.958848907358998\n"
          ]
        }
      ]
    },
    {
      "cell_type": "markdown",
      "source": [
        "3"
      ],
      "metadata": {
        "id": "VPZzW-oOuRxd"
      }
    },
    {
      "cell_type": "code",
      "source": [
        "import math\n",
        "a=int(input('a='))\n",
        "b=int(input('b='))\n",
        "c=int(input('c='))\n",
        "s=(a+b+c)/2\n",
        "P=math.sqrt(s*(s-a)*(s-b)*(s-c))\n",
        "h_a=2*P/a\n",
        "h_b=2*P/b\n",
        "h_c=2*P/c\n",
        "print(h_a, h_b, h_c)\n"
      ],
      "metadata": {
        "id": "cntl6CxLlQnJ",
        "outputId": "ed6c6d94-8486-4d4d-9750-0160f9c1b993",
        "colab": {
          "base_uri": "https://localhost:8080/"
        }
      },
      "execution_count": 15,
      "outputs": [
        {
          "output_type": "stream",
          "name": "stdout",
          "text": [
            "a=3\n",
            "b=4\n",
            "c=5\n",
            "4.0 3.0 2.4\n"
          ]
        }
      ]
    },
    {
      "cell_type": "markdown",
      "source": [
        "4"
      ],
      "metadata": {
        "id": "JWruzJZ_uDrp"
      }
    },
    {
      "cell_type": "code",
      "source": [
        "import math\n",
        "A = int(input())\n",
        "Res = (A // 10) + math.fmod(A, 10)\n",
        "print(int(Res))\n",
        "Res = (A // 10) * math.fmod(A, 10)\n",
        "print(int(Res))\n"
      ],
      "metadata": {
        "id": "v4p_IUeyt3w5",
        "outputId": "8bb78c7b-a185-4363-cdf4-50bea4527ed3",
        "colab": {
          "base_uri": "https://localhost:8080/"
        }
      },
      "execution_count": 17,
      "outputs": [
        {
          "output_type": "stream",
          "name": "stdout",
          "text": [
            "23\n",
            "5\n",
            "6\n"
          ]
        }
      ]
    },
    {
      "cell_type": "markdown",
      "source": [
        "5\n"
      ],
      "metadata": {
        "id": "VQeC6PALvbHS"
      }
    },
    {
      "cell_type": "code",
      "source": [
        "x= int(input(\"->\"))\n",
        "\n",
        "y = int(input(\"->\"))\n",
        "\n",
        "z=(x+y)%2==1\n",
        "\n",
        "print(z)\n"
      ],
      "metadata": {
        "id": "M_ZQbku3weIj",
        "outputId": "94c8723c-f96a-477e-b02c-722d42855385",
        "colab": {
          "base_uri": "https://localhost:8080/"
        }
      },
      "execution_count": 21,
      "outputs": [
        {
          "output_type": "stream",
          "name": "stdout",
          "text": [
            "->3\n",
            "->2\n",
            "True\n"
          ]
        }
      ]
    }
  ]
}