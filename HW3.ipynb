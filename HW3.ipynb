{
  "nbformat": 4,
  "nbformat_minor": 0,
  "metadata": {
    "colab": {
      "provenance": [],
      "authorship_tag": "ABX9TyOPUF3CtRxrOEry1ox3qFBf",
      "include_colab_link": true
    },
    "kernelspec": {
      "name": "python3",
      "display_name": "Python 3"
    },
    "language_info": {
      "name": "python"
    }
  },
  "cells": [
    {
      "cell_type": "markdown",
      "metadata": {
        "id": "view-in-github",
        "colab_type": "text"
      },
      "source": [
        "<a href=\"https://colab.research.google.com/github/ccn700/HW/blob/main/HW3.ipynb\" target=\"_parent\"><img src=\"https://colab.research.google.com/assets/colab-badge.svg\" alt=\"Open In Colab\"/></a>"
      ]
    },
    {
      "cell_type": "markdown",
      "source": [
        "1)\tОколо стены наклонно стоит палка длиной х м. Один ее конец находится на расстоянии y м от стены. Определить значение угла α между палкой и полом для значений x=k м и y, изменяющегося от 2 до 3 м с шагом h м."
      ],
      "metadata": {
        "id": "XV_otzvkpARw"
      }
    },
    {
      "cell_type": "code",
      "execution_count": 2,
      "metadata": {
        "colab": {
          "base_uri": "https://localhost:8080/"
        },
        "id": "XrgEi3k4jPPD",
        "outputId": "3c89c606-3884-485b-e56b-85bd97cc19ef"
      },
      "outputs": [
        {
          "output_type": "stream",
          "name": "stdout",
          "text": [
            "Введите длину палки x (м): 6\n",
            "Длина палки: 6.0 м\n",
            "Расстояние y изменяется от 2.0 м до 3.0 м с шагом 0.1 м\n",
            "\n",
            "Результаты:\n",
            "y (м) | Угол α (рад) | Угол α (град)\n",
            "2.0 | 1.2310 | 70.53°\n",
            "2.1 | 1.2132 | 69.51°\n",
            "2.2 | 1.1954 | 68.49°\n",
            "2.3 | 1.1774 | 67.46°\n",
            "2.4 | 1.1593 | 66.42°\n",
            "2.5 | 1.1410 | 65.38°\n",
            "2.6 | 1.1226 | 64.32°\n",
            "2.7 | 1.1040 | 63.26°\n",
            "2.8 | 1.0853 | 62.18°\n",
            "2.9 | 1.0663 | 61.10°\n"
          ]
        }
      ],
      "source": [
        "import math\n",
        "x = float(input(\"Введите длину палки x (м): \"))\n",
        "y_start = 2.0\n",
        "y_end = 3.0\n",
        "h = 0.1\n",
        "if x <= 0 or y_start < 0 or y_end < y_start or h <= 0:\n",
        "    print(\"Ошибка!\")\n",
        "else:\n",
        "    print(f\"Длина палки: {x} м\")\n",
        "    print(f\"Расстояние y изменяется от {y_start} м до {y_end} м с шагом {h} м\")\n",
        "    print(\"\\nРезультаты:\")\n",
        "    print(\"y (м) | Угол α (рад) | Угол α (град)\")\n",
        "    y = y_start\n",
        "    while y <= y_end:\n",
        "        if y > x:\n",
        "            print(f\"{y:.1f} | Невозможно (y > x) | -\")\n",
        "        else:\n",
        "            alpha_rad = math.acos(y / x)\n",
        "            alpha_deg = math.degrees(alpha_rad)\n",
        "            print(f\"{y:.1f} | {alpha_rad:.4f} | {alpha_deg:.2f}°\")\n",
        "        y += h\n"
      ]
    },
    {
      "cell_type": "code",
      "source": [],
      "metadata": {
        "id": "rCdr9uUBodBY"
      },
      "execution_count": null,
      "outputs": []
    },
    {
      "cell_type": "markdown",
      "source": [
        "2"
      ],
      "metadata": {
        "id": "dPSq6p4Dp8pl"
      }
    },
    {
      "cell_type": "code",
      "source": [
        "import math\n",
        "def compute_expression(N):\n",
        "    if N < 1:\n",
        "        return \"N должно быть натуральным числом (N >= 1)\"\n",
        "    product = 1.0\n",
        "    sum_cos = 0.0\n",
        "    sum_sin = 0.0\n",
        "    for k in range(1, N + 1):\n",
        "        sum_cos += math.cos(k)\n",
        "        sum_sin += math.sin(k)\n",
        "        if sum_sin == 0:\n",
        "            return \"Ошибка: деление на ноль при k = {}\".format(k)\n",
        "        product *= sum_cos / sum_sin\n",
        "    result = product + math.cos(N)\n",
        "    return result\n",
        "N = int(input(\"N: \"))\n",
        "print(compute_expression(N))"
      ],
      "metadata": {
        "colab": {
          "base_uri": "https://localhost:8080/"
        },
        "id": "D58ZiPopp9Y1",
        "outputId": "8fc8b110-d9a7-44e6-fa2c-5e491e0cf0e9"
      },
      "execution_count": 7,
      "outputs": [
        {
          "output_type": "stream",
          "name": "stdout",
          "text": [
            "N: 9\n",
            "-0.8823469015360809\n"
          ]
        }
      ]
    },
    {
      "cell_type": "markdown",
      "source": [
        "3"
      ],
      "metadata": {
        "id": "Qz_Z5UnfrLdy"
      }
    },
    {
      "cell_type": "code",
      "source": [
        "def calculate_series_sum(epsilon=0.001):\n",
        "    sum_series = 0.0\n",
        "    n = 1\n",
        "    while True:\n",
        "        a_n = 1 / ((3 * n - 2) * (3 * n + 1))\n",
        "        sum_series += a_n\n",
        "        if a_n < epsilon:\n",
        "            break\n",
        "        n += 1\n",
        "    return sum_series\n",
        "result = calculate_series_sum()\n",
        "print(f\"ε = 0.001: {result:.5f}\")"
      ],
      "metadata": {
        "colab": {
          "base_uri": "https://localhost:8080/"
        },
        "id": "sVVAzqd_rL6O",
        "outputId": "eb80393c-59a9-4438-de28-35cb39b56bd1"
      },
      "execution_count": 9,
      "outputs": [
        {
          "output_type": "stream",
          "name": "stdout",
          "text": [
            "ε = 0.001: 0.32353\n"
          ]
        }
      ]
    },
    {
      "cell_type": "markdown",
      "source": [
        " 4)\tДано целое число N и набор из N положительных вещественных чисел. Вывести в том же порядке целые части всех чисел из данного набора (как вещественные числа с нулевой дробной частью), а также сумму всех целых частей."
      ],
      "metadata": {
        "id": "B-uStt4WrdBZ"
      }
    },
    {
      "cell_type": "code",
      "source": [
        "N = int(input(\"Введите количество чисел N: \"))\n",
        "numbers = []\n",
        "int_parts = []\n",
        "for i in range(N):\n",
        "    num = float(input(f\"Введите число {i + 1}: \"))\n",
        "    numbers.append(num)\n",
        "sum_int_parts = 0.0\n",
        "for num in numbers:\n",
        "    int_part = int(num)\n",
        "    int_parts.append(float(int_part))\n",
        "    sum_int_parts += int_part\n",
        "print(\"Целые части чисел:\")\n",
        "for int_part in int_parts:\n",
        "    print(int_part, end=' ')\n",
        "print(f\"\\nСумма целых частей: {sum_int_parts}\")"
      ],
      "metadata": {
        "id": "2KKTSEL9rd3t"
      },
      "execution_count": null,
      "outputs": []
    }
  ]
}