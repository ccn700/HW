{
  "nbformat": 4,
  "nbformat_minor": 0,
  "metadata": {
    "colab": {
      "provenance": [],
      "name": "HW5.ipynb",
      "authorship_tag": "ABX9TyOz8to5hP1mpGdG14FdqRYm",
      "include_colab_link": true
    },
    "kernelspec": {
      "name": "python3",
      "display_name": "Python 3"
    },
    "language_info": {
      "name": "python"
    }
  },
  "cells": [
    {
      "cell_type": "markdown",
      "metadata": {
        "id": "view-in-github",
        "colab_type": "text"
      },
      "source": [
        "<a href=\"https://colab.research.google.com/github/ccn700/HW/blob/main/HW5.ipynb\" target=\"_parent\"><img src=\"https://colab.research.google.com/assets/colab-badge.svg\" alt=\"Open In Colab\"/></a>"
      ]
    },
    {
      "cell_type": "markdown",
      "source": [
        "\n",
        "Array 1. Дано целое число N (> 0). Сформировать и вывести целочисленный массив размера N, содержащий N первых положительных нечетных чисел: 1, 3, 5, ... ."
      ],
      "metadata": {
        "id": "ljyjpDew7v9Z"
      }
    },
    {
      "cell_type": "code",
      "execution_count": null,
      "metadata": {
        "id": "B4Alj4jNizYB",
        "colab": {
          "base_uri": "https://localhost:8080/"
        },
        "outputId": "cf761b74-b922-4477-afd1-f1ede7dd3bbb"
      },
      "outputs": [
        {
          "output_type": "stream",
          "name": "stdout",
          "text": [
            "N =  4\n",
            "[1, 3, 5, 7]\n",
            "[1, 3, 5, 7]\n"
          ]
        }
      ],
      "source": [
        "import random\n",
        "N = random.randrange(1,10)\n",
        "print(\"N = \", N)\n",
        "a1 = []\n",
        "for i in range(N):\n",
        "    a1.append(i*2+1)\n",
        "print(a1)\n",
        "a2 = [i*2+1 for i in range(N)]\n",
        "print(a2)\n"
      ]
    },
    {
      "cell_type": "markdown",
      "source": [
        "Array 2. Дано целое число N (> 0). Сформировать и вывести целочисленный массив размера N, содержащий степени двойки от первой до N-й: 2, 4, 8, 16, ... ."
      ],
      "metadata": {
        "id": "omJeMX9g73qO"
      }
    },
    {
      "cell_type": "code",
      "source": [
        "import random\n",
        "import math\n",
        "N = random.randrange(1,10)\n",
        "print(\"N = \", N)\n",
        "a1 = []\n",
        "p = 1\n",
        "for i in range(N):\n",
        "    p *= 2\n",
        "    a1.append(p)\n",
        "print(a1)\n",
        "a2 = [int(math.pow(2,i+1)) for i in range(N)]\n",
        "print(a2)"
      ],
      "metadata": {
        "colab": {
          "base_uri": "https://localhost:8080/"
        },
        "id": "708VPoxP75bJ",
        "outputId": "c617ef88-09f8-4b89-dc88-6a902e1f76d8"
      },
      "execution_count": null,
      "outputs": [
        {
          "output_type": "stream",
          "name": "stdout",
          "text": [
            "N =  4\n",
            "[2, 4, 8, 16]\n",
            "[2, 4, 8, 16]\n"
          ]
        }
      ]
    },
    {
      "cell_type": "markdown",
      "source": [
        "Array 3. Дано целое число N (> 1), а также первый член A и разность D арифметической прогрессии. Сформировать и вывести массив размера N, со-держащий N первых членов данной прогрессии:\n",
        "A,A+D,A+2⋅D,A+3⋅D,...."
      ],
      "metadata": {
        "id": "kB-jSz-w78sg"
      }
    },
    {
      "cell_type": "code",
      "source": [
        "import random\n",
        "N = random.randrange(1,10)\n",
        "A = random.randrange(-10,10)\n",
        "D = round(random.uniform(-5,5),1)\n",
        "print(\"N = \", N)\n",
        "print(\"A = \", A)\n",
        "print(\"D = \", D)\n",
        "a1 = []\n",
        "for i in range(N):\n",
        "    x = A + i*D\n",
        "    a1.append(x)\n",
        "print(a1)\n",
        "a2 = [A + i*D for i in range(N)]\n",
        "print(a2)"
      ],
      "metadata": {
        "colab": {
          "base_uri": "https://localhost:8080/"
        },
        "id": "VIym2a8N7_uS",
        "outputId": "7bba2fbf-d697-4240-f821-9df2e28550da"
      },
      "execution_count": null,
      "outputs": [
        {
          "output_type": "stream",
          "name": "stdout",
          "text": [
            "N =  2\n",
            "A =  -5\n",
            "D =  4.9\n",
            "[-5.0, -0.09999999999999964]\n",
            "[-5.0, -0.09999999999999964]\n"
          ]
        }
      ]
    },
    {
      "cell_type": "markdown",
      "source": [
        "Array 4. Дано целое число N (> 1), а также первый член A и знаменатель D геометрической прогрессии. Сформировать и вывести массив размера N, содержащий N первых членов данной прогрессии:\n",
        "A,A⋅D,A⋅D2,A⋅D3,...\n",
        " ."
      ],
      "metadata": {
        "id": "d8lGmiFp8DXG"
      }
    },
    {
      "cell_type": "code",
      "source": [
        "import random\n",
        "import math\n",
        "N = random.randrange(1,10)\n",
        "A = random.randrange(-10,10)\n",
        "D = round(random.randrange(-5,5),1)\n",
        "print(\"N = \", N)\n",
        "print(\"A = \", A)\n",
        "print(\"D = \", D)\n",
        "a1 = []\n",
        "for i in range(N):\n",
        "    x = A * (D**i)\n",
        "    a1.append(x)\n",
        "print(a1)\n",
        "a2 = [A * (D**i) for i in range(N)]\n",
        "print(a2)"
      ],
      "metadata": {
        "colab": {
          "base_uri": "https://localhost:8080/"
        },
        "id": "BRr5J52b8GPB",
        "outputId": "79b9ad8f-c120-4470-a956-381718c4f166"
      },
      "execution_count": null,
      "outputs": [
        {
          "output_type": "stream",
          "name": "stdout",
          "text": [
            "N =  2\n",
            "A =  2\n",
            "D =  -4\n",
            "[2, -8]\n",
            "[2, -8]\n"
          ]
        }
      ]
    },
    {
      "cell_type": "markdown",
      "source": [
        "Array 5. Дано целое число N (> 2). Сформировать и вывести целочисленный массив размера N, содержащий N первых элементов последовательности чисел Фибоначчи FK\n",
        ":\n",
        "F1=1,F2=1,FK=FK−2+FK−1,K=3,4,...\n",
        " ."
      ],
      "metadata": {
        "id": "qhgBeECu8Mhi"
      }
    },
    {
      "cell_type": "code",
      "source": [
        "import random\n",
        "import math\n",
        "N = random.randrange(2,15)\n",
        "print(\"N = \", N)\n",
        "a = [1,1]\n",
        "for i in range(2,N):\n",
        "    x = a[i-2] + a[i-1]\n",
        "    a.append(x)\n",
        "print(a)"
      ],
      "metadata": {
        "colab": {
          "base_uri": "https://localhost:8080/"
        },
        "id": "ugc8sT4k8PPV",
        "outputId": "e45c9b45-9a6f-4503-da27-33a06d58478f"
      },
      "execution_count": null,
      "outputs": [
        {
          "output_type": "stream",
          "name": "stdout",
          "text": [
            "N =  13\n",
            "[1, 1, 2, 3, 5, 8, 13, 21, 34, 55, 89, 144, 233]\n"
          ]
        }
      ]
    },
    {
      "cell_type": "markdown",
      "source": [
        "Matrix1. Даны целые положительные числа M и N. Сформировать целочисленную матрицу размера M×N\n",
        ", у которой все элементы I-й строки имеют значение 10⋅I\n",
        " (I = 1, ..., M)."
      ],
      "metadata": {
        "id": "bFE8xVfL8WKt"
      }
    },
    {
      "cell_type": "code",
      "source": [
        "import random\n",
        "import numpy\n",
        "\n",
        "M = random.randrange(2,10)\n",
        "N = random.randrange(2,10)\n",
        "print(\"M = \",M,\"; N = \",N)\n",
        "a = numpy.zeros((M, N))\n",
        "\n",
        "print(a)\n",
        "\n",
        "for i in range(M):\n",
        "    for j in range(N):\n",
        "        a[i][j] = (i+1)*10\n",
        "\n",
        "print(a)\n",
        "\n",
        "Matrix = [[(y+1)*10 for x in range(N)] for y in range(M)]\n",
        "print(Matrix)"
      ],
      "metadata": {
        "id": "z9tlndrr8WzE"
      },
      "execution_count": null,
      "outputs": []
    },
    {
      "cell_type": "markdown",
      "source": [
        "Matrix2. Даны целые положительные числа M и N. Сформировать целочисленную матрицу размера M×N\n",
        ", у которой все элементы J-го столбца имеют значение 5⋅J\n",
        " (J = 1, ..., N)."
      ],
      "metadata": {
        "id": "z6sYkFxY8aGC"
      }
    },
    {
      "cell_type": "code",
      "source": [
        "import random\n",
        "import numpy\n",
        "M = random.randrange(2,10)\n",
        "N = random.randrange(2,10)\n",
        "print(\"M = \",M,\"; N = \",N)\n",
        "a = numpy.zeros((M, N))\n",
        "for i in range(M):\n",
        "    for j in range(N):\n",
        "        a[i][j] = (j+1)*5\n",
        "\n",
        "print(a)\n",
        "Matrix = [[(x+1)*5 for x in range(N)] for y in range(M)]\n",
        "print(Matrix)"
      ],
      "metadata": {
        "colab": {
          "base_uri": "https://localhost:8080/"
        },
        "id": "tbUHD0q-8b7Y",
        "outputId": "7836ca84-a951-4de9-a40f-e48c782114f3"
      },
      "execution_count": null,
      "outputs": [
        {
          "output_type": "stream",
          "name": "stdout",
          "text": [
            "M =  8 ; N =  4\n",
            "[[ 5. 10. 15. 20.]\n",
            " [ 5. 10. 15. 20.]\n",
            " [ 5. 10. 15. 20.]\n",
            " [ 5. 10. 15. 20.]\n",
            " [ 5. 10. 15. 20.]\n",
            " [ 5. 10. 15. 20.]\n",
            " [ 5. 10. 15. 20.]\n",
            " [ 5. 10. 15. 20.]]\n",
            "[[5, 10, 15, 20], [5, 10, 15, 20], [5, 10, 15, 20], [5, 10, 15, 20], [5, 10, 15, 20], [5, 10, 15, 20], [5, 10, 15, 20], [5, 10, 15, 20]]\n"
          ]
        }
      ]
    },
    {
      "cell_type": "markdown",
      "source": [
        "Matrix3. Даны целые положительные числа M, N и набор из M чисел. Сформировать матрицу размера M×N\n",
        ", у которой в каждом столбце содержатся все числа из исходного набора (в том же порядке)."
      ],
      "metadata": {
        "id": "Pe8X7X3j8faZ"
      }
    },
    {
      "cell_type": "code",
      "source": [
        "import random\n",
        "import numpy\n",
        "M = random.randrange(2,10)\n",
        "N = random.randrange(2,10)\n",
        "print(\"M = \",M,\"; N = \",N)\n",
        "a = numpy.zeros((M, N))\n",
        "\n",
        "c = [random.randrange(1,5) for i in range(M)]\n",
        "print(\"Set of \",M,\" numbers:\")\n",
        "print(c)\n",
        "for i in range(M):\n",
        "    for j in range(N):\n",
        "        a[i][j] = c[i]\n",
        "print(a)\n",
        "Matrix = []\n",
        "for i in range(M):\n",
        "    Matrix.append([c[i] for j in range(N)])\n",
        "print(Matrix)"
      ],
      "metadata": {
        "colab": {
          "base_uri": "https://localhost:8080/"
        },
        "id": "vqCdjgTC8hep",
        "outputId": "5ea1c853-aab7-4059-e4c0-154d9ff8f14f"
      },
      "execution_count": null,
      "outputs": [
        {
          "output_type": "stream",
          "name": "stdout",
          "text": [
            "M =  3 ; N =  4\n",
            "Set of  3  numbers:\n",
            "[2, 1, 3]\n",
            "[[2. 2. 2. 2.]\n",
            " [1. 1. 1. 1.]\n",
            " [3. 3. 3. 3.]]\n",
            "[[2, 2, 2, 2], [1, 1, 1, 1], [3, 3, 3, 3]]\n"
          ]
        }
      ]
    },
    {
      "cell_type": "markdown",
      "source": [
        "Matrix4. Даны целые положительные числа M, N и набор из N чисел. Сформировать матрицу размера M×N\n",
        ", у которой в каждой строке содержатся все числа из исходного набора (в том же порядке)."
      ],
      "metadata": {
        "id": "lezaMp9j8lm6"
      }
    },
    {
      "cell_type": "code",
      "source": [
        "import random\n",
        "import numpy\n",
        "M = random.randrange(2,10)\n",
        "N = random.randrange(2,10)\n",
        "print(\"M = \",M,\"; N = \",N)\n",
        "a = numpy.zeros((M, N))\n",
        "\n",
        "c = [random.randrange(1,5) for i in range(N)]\n",
        "print(\"Набор из \",N,\" чисел:\")\n",
        "print(c)\n",
        "print()\n",
        "for i in range(M):\n",
        "    for j in range(N):\n",
        "        a[i][j] = c[j]\n",
        "print(a)\n",
        "print()\n",
        "Matrix = [c for y in range(M)]\n",
        "print(Matrix)"
      ],
      "metadata": {
        "colab": {
          "base_uri": "https://localhost:8080/"
        },
        "id": "ABUu_Iw778eK",
        "outputId": "444cba99-b4c9-412e-f6c0-3df5291d9bb2"
      },
      "execution_count": null,
      "outputs": [
        {
          "output_type": "stream",
          "name": "stdout",
          "text": [
            "M =  5 ; N =  9\n",
            "Набор из  9  чисел:\n",
            "[2, 3, 4, 2, 2, 2, 1, 4, 3]\n",
            "\n",
            "[[2. 3. 4. 2. 2. 2. 1. 4. 3.]\n",
            " [2. 3. 4. 2. 2. 2. 1. 4. 3.]\n",
            " [2. 3. 4. 2. 2. 2. 1. 4. 3.]\n",
            " [2. 3. 4. 2. 2. 2. 1. 4. 3.]\n",
            " [2. 3. 4. 2. 2. 2. 1. 4. 3.]]\n",
            "\n",
            "[[2, 3, 4, 2, 2, 2, 1, 4, 3], [2, 3, 4, 2, 2, 2, 1, 4, 3], [2, 3, 4, 2, 2, 2, 1, 4, 3], [2, 3, 4, 2, 2, 2, 1, 4, 3], [2, 3, 4, 2, 2, 2, 1, 4, 3]]\n"
          ]
        }
      ]
    },
    {
      "cell_type": "markdown",
      "source": [
        "Matrix5. Даны целые положительные числа M, N, число D и набор из M чисел. Сформировать матрицу размера M×N\n",
        ", у которой первый столбец совпадает с исходным набором чисел, а элементы каждого следующего столбца равны сумме соответствующего элемента предыдущего столбца и числа D (в результате каждая строка матрицы будет содержать элементы арифметической прогрессии)."
      ],
      "metadata": {
        "id": "bCPYN5ec8qsA"
      }
    },
    {
      "cell_type": "code",
      "source": [
        "import random\n",
        "import numpy\n",
        "M = random.randrange(2,10)\n",
        "N = random.randrange(2,10)\n",
        "D = random.randrange(-5,5)\n",
        "print(\"M = \",M,\"; N = \",N,\"; D = \",D)\n",
        "a = numpy.zeros((M, N))\n",
        "c = [random.randrange(1,5) for i in range(M)]\n",
        "print(\"Набор из \",M,\" чисел:\")\n",
        "print(c)\n",
        "for i in range(M):\n",
        "    for j in range(N):\n",
        "        a[i][j] = c[i]+D*j\n",
        "print(a)\n",
        "Matrix = []\n",
        "for i in range(M):\n",
        "    Matrix.append([c[i]+D*j for j in range(N)])\n",
        "print(Matrix)"
      ],
      "metadata": {
        "colab": {
          "base_uri": "https://localhost:8080/"
        },
        "id": "Yuk_rFBo8sY8",
        "outputId": "dcf8fa20-c675-46f4-8b9c-2cca0b988d13"
      },
      "execution_count": null,
      "outputs": [
        {
          "output_type": "stream",
          "name": "stdout",
          "text": [
            "M =  4 ; N =  7 ; D =  3\n",
            "Набор из  4  чисел:\n",
            "[2, 3, 3, 4]\n",
            "[[ 2.  5.  8. 11. 14. 17. 20.]\n",
            " [ 3.  6.  9. 12. 15. 18. 21.]\n",
            " [ 3.  6.  9. 12. 15. 18. 21.]\n",
            " [ 4.  7. 10. 13. 16. 19. 22.]]\n",
            "[[2, 5, 8, 11, 14, 17, 20], [3, 6, 9, 12, 15, 18, 21], [3, 6, 9, 12, 15, 18, 21], [4, 7, 10, 13, 16, 19, 22]]\n"
          ]
        }
      ]
    }
  ]
}