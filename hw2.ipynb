{
  "nbformat": 4,
  "nbformat_minor": 0,
  "metadata": {
    "colab": {
      "provenance": [],
      "authorship_tag": "ABX9TyPStQ7cT8SmodEuBOPMZG1B",
      "include_colab_link": true
    },
    "kernelspec": {
      "name": "python3",
      "display_name": "Python 3"
    },
    "language_info": {
      "name": "python"
    }
  },
  "cells": [
    {
      "cell_type": "markdown",
      "metadata": {
        "id": "view-in-github",
        "colab_type": "text"
      },
      "source": [
        "<a href=\"https://colab.research.google.com/github/ccn700/HW/blob/main/hw2.ipynb\" target=\"_parent\"><img src=\"https://colab.research.google.com/assets/colab-badge.svg\" alt=\"Open In Colab\"/></a>"
      ]
    },
    {
      "cell_type": "markdown",
      "source": [],
      "metadata": {
        "id": "hdWikgfuh-iQ"
      }
    },
    {
      "cell_type": "code",
      "execution_count": null,
      "metadata": {
        "id": "ZbgZbCtr666p",
        "colab": {
          "base_uri": "https://localhost:8080/"
        },
        "outputId": "e2b38218-6e51-462b-d3d1-d984005ff836"
      },
      "outputs": [
        {
          "output_type": "stream",
          "name": "stdout",
          "text": [
            "x:324\n",
            "f(324.0) = 0.0030303030303030303\n"
          ]
        }
      ],
      "source": [
        "x = float(input(\"x:\"))\n",
        "\n",
        "if x <= 1:\n",
        "    result = 0\n",
        "else:\n",
        "    result = 1 / (x + 6)\n",
        "\n",
        "print(f\"f({x}) = {result}\")"
      ]
    },
    {
      "cell_type": "markdown",
      "source": [
        "1"
      ],
      "metadata": {
        "id": "v2mfQLyfY6LV"
      }
    },
    {
      "cell_type": "code",
      "source": [
        "x=(int(input('x=')))\n",
        "if x<=1:\n",
        "  print(0)\n",
        "else:\n",
        "  k=1/(x+6)\n",
        "print(k)\n"
      ],
      "metadata": {
        "colab": {
          "base_uri": "https://localhost:8080/"
        },
        "id": "n73PAT95Y7YW",
        "outputId": "99dda02b-33c7-4d11-eb09-b0e216e9e7fb"
      },
      "execution_count": null,
      "outputs": [
        {
          "output_type": "stream",
          "name": "stdout",
          "text": [
            "x=3\n",
            "0.1111111111111111\n"
          ]
        }
      ]
    },
    {
      "cell_type": "markdown",
      "source": [
        "# 2 Даны действительные числа x и y, не равные друг другу. Меньшее из этих чисел заменить их полусуммой, а большее – их удвоенным произведением."
      ],
      "metadata": {
        "id": "WYhD8SBab6mO"
      }
    },
    {
      "cell_type": "code",
      "source": [
        "x = float(input(\"x:\"))\n",
        "y = float(input(\"y:\"))\n",
        "if x == y:\n",
        "  print\n",
        "else:\n",
        "    if x < y:\n",
        "        smaller = x\n",
        "        larger = y\n",
        "    else:\n",
        "        smaller = y\n",
        "        larger = x\n",
        "    half_sum = (x + y) / 2\n",
        "    double_product = 2 * x * y\n",
        "    if x < y:\n",
        "        x = half_sum\n",
        "        y = double_product\n",
        "    else:\n",
        "        y = half_sum\n",
        "        x = double_product\n",
        "    print(x)\n",
        "    print(y)"
      ],
      "metadata": {
        "colab": {
          "base_uri": "https://localhost:8080/"
        },
        "id": "xNfAQUHyb8YY",
        "outputId": "72effe57-aa0d-42eb-ced4-7ffd18b400b5"
      },
      "execution_count": null,
      "outputs": [
        {
          "output_type": "stream",
          "name": "stdout",
          "text": [
            "x:4\n",
            "y:5\n",
            "4.5\n",
            "40.0\n"
          ]
        }
      ]
    },
    {
      "cell_type": "markdown",
      "source": [
        "3\n"
      ],
      "metadata": {
        "id": "Y2WHPOmBcv7Y"
      }
    },
    {
      "cell_type": "code",
      "source": [
        "speed_kmh = float(input(\"speed_kmh:\"))\n",
        "speed_mps = float(input(\"speed_mps:\"))\n",
        "speed_kmh_in_mps = speed_kmh * (1000 / 3600)\n",
        "if speed_kmh_in_mps > speed_mps:\n",
        "    print(f\"Скорость {speed_kmh} км/ч больше, чем {speed_mps} м/с.\")\n",
        "else:\n",
        "    print(f\"Скорость {speed_mps} м/с больше, чем {speed_kmh} км/ч.\")\n",
        "\n"
      ],
      "metadata": {
        "colab": {
          "base_uri": "https://localhost:8080/"
        },
        "id": "eLoARMbufg8j",
        "outputId": "5b8932c2-b35f-4d25-81fa-edc1499b2f50"
      },
      "execution_count": null,
      "outputs": [
        {
          "output_type": "stream",
          "name": "stdout",
          "text": [
            "speed_kmh:18753681956\n",
            "speed_mps:7813456187\n",
            "Скорость 7813456187.0 м/с больше, чем 18753681956.0 км/ч.\n"
          ]
        }
      ]
    },
    {
      "cell_type": "markdown",
      "source": [
        "5\n",
        "Игральным картам условно присвоены следующие порядковые номера в зависимости от их достоинства: \"валету\" — 11, \"даме\" — 12, \"королю\" — 13, \"тузу\" — 14. Порядковые номера остальных карт соответствуют их названиям (\"шестерка\", \"девятка\" и т. п.). По заданному номеру карты k (6 k 14) определить достоинство соответствующей карты."
      ],
      "metadata": {
        "id": "VkppbIkNglQe"
      }
    },
    {
      "cell_type": "code",
      "source": [
        "k = int(input(\"Введите номер карты (6-14): \"))\n",
        "\n",
        "if 6 <= k <= 10:\n",
        "    print(f\"Достоинство карты: {k}\")\n",
        "elif k == 11:\n",
        "    print(\"Достоинство карты: валет\")\n",
        "elif k == 12:\n",
        "    print(\"Достоинство карты: дама\")\n",
        "elif k == 13:\n",
        "    print(\"Достоинство карты: король\")\n",
        "elif k == 14:\n",
        "    print(\"Достоинство карты: туз\")\n",
        "else:\n",
        "    print(\"Некорректный номер карты!\")"
      ],
      "metadata": {
        "colab": {
          "base_uri": "https://localhost:8080/"
        },
        "id": "aAdBCfOTgl3G",
        "outputId": "398a56db-9890-4879-f9f1-6153a06b84fb"
      },
      "execution_count": null,
      "outputs": [
        {
          "output_type": "stream",
          "name": "stdout",
          "text": [
            "Введите номер карты (6-14): 12\n",
            "Достоинство карты: дама\n"
          ]
        }
      ]
    }
  ]
}