{
  "nbformat": 4,
  "nbformat_minor": 0,
  "metadata": {
    "colab": {
      "provenance": [],
      "authorship_tag": "ABX9TyNI8vxSBZh/+kdxRk9Bx6Hp",
      "include_colab_link": true
    },
    "kernelspec": {
      "name": "python3",
      "display_name": "Python 3"
    },
    "language_info": {
      "name": "python"
    }
  },
  "cells": [
    {
      "cell_type": "markdown",
      "metadata": {
        "id": "view-in-github",
        "colab_type": "text"
      },
      "source": [
        "<a href=\"https://colab.research.google.com/github/ccn700/HW/blob/main/%D0%97%D0%B0%D0%B4%D0%B0%D1%87%D0%B8%20PROK.ipynb\" target=\"_parent\"><img src=\"https://colab.research.google.com/assets/colab-badge.svg\" alt=\"Open In Colab\"/></a>"
      ]
    },
    {
      "cell_type": "markdown",
      "source": [
        "Proc 1. Описать процедуру PowerA3(A, B), вычисляющую третью степень числа A и возвращающую ее в переменной B (A — входной, B — выходной параметр; оба параметра являются вещественными). С помощью этой процедуры найти третьи степени пяти данных чисел.\n"
      ],
      "metadata": {
        "id": "fAu8Cx5sooNC"
      }
    },
    {
      "cell_type": "code",
      "execution_count": 4,
      "metadata": {
        "colab": {
          "base_uri": "https://localhost:8080/"
        },
        "id": "czHAwlmDl5Ma",
        "outputId": "ce26c0e3-c6e8-49fa-d68b-820a21797b3b"
      },
      "outputs": [
        {
          "output_type": "stream",
          "name": "stdout",
          "text": [
            "A 7\n",
            "B 343\n",
            "A 0.49582614060280683\n",
            "B 0.12189566439227502\n"
          ]
        }
      ],
      "source": [
        "import random\n",
        "def PowerA3(A):\n",
        "   return A*A*A\n",
        "A = random.randrange(-10,10)\n",
        "B = PowerA3(A)\n",
        "print('A', A)\n",
        "print('B', B)\n",
        "A = random.uniform(-10,10)\n",
        "B = PowerA3(A)\n",
        "print('A', A)\n",
        "print('B', B)"
      ]
    },
    {
      "cell_type": "markdown",
      "source": [
        "Proc 2. Описать процедуру PowerA234(A, B, C, D), вычисляющую вторую, третью и четвертую степень числа A и возвращающую эти степени соответственно в переменных B, C и D (A — входной, B, C, D — выходные параметры; все параметры являются вещественными). С помощью этой процедуры найти вторую, третью и четвертую степень пяти данных чисел."
      ],
      "metadata": {
        "id": "cE3mKfD9o2xk"
      }
    },
    {
      "cell_type": "code",
      "source": [
        "import random\n",
        "def PowerA234(A,B):\n",
        "   B[0] = A * A\n",
        "   B[1] = B[0] * A\n",
        "   B[2] = B[1] * A\n",
        "   return\n",
        "A = random.randrange(-10,10)\n",
        "B = [None] * 3\n",
        "PowerA234(A,B)\n",
        "print('A', A)\n",
        "print('B', B)\n",
        "A = random.uniform(-10,10)\n",
        "PowerA234(A,B)\n",
        "print('A', A)\n",
        "print('B', B)"
      ],
      "metadata": {
        "colab": {
          "base_uri": "https://localhost:8080/"
        },
        "id": "O2ErPQqfo6AA",
        "outputId": "fd858883-96bc-42d3-bb40-7bfde905cfba"
      },
      "execution_count": 5,
      "outputs": [
        {
          "output_type": "stream",
          "name": "stdout",
          "text": [
            "A 2\n",
            "B [4, 8, 16]\n",
            "A -0.08680980768167323\n",
            "B [0.0075359427097290935, -0.00065419373733169, 5.6790432524319065e-05]\n"
          ]
        }
      ]
    },
    {
      "cell_type": "markdown",
      "source": [
        "Proc 3. Описать процедуру Mean(X, Y, AMean, GMean), вычисляющую среднее арифметическое AMean = (X +Y )/2 и среднее геометрическое GMean=X⋅Y−−−−√\n",
        " двух положительных чисел X и Y (X и Y — входные, AMean и GMean — выходные параметры вещественного типа). С помощью этой процедуры найти среднее арифметическое и среднее геометрическое для пар (A, B), (A, C), (A, D), если даны A, B, C, D."
      ],
      "metadata": {
        "id": "SlqWbjF6pJmo"
      }
    },
    {
      "cell_type": "code",
      "source": [
        "import random\n",
        "import math\n",
        "def Mean(X,Y,Result):\n",
        "   Result['AMean'] = (X + Y) / 2\n",
        "   Result['GMean'] = math.sqrt(X * Y)\n",
        "   return\n",
        "R = {'AMean' : None, 'GMean' : None}\n",
        "#A = random.uniform(-10,10)\n",
        "A = random.randrange(0,10)\n",
        "B = random.randrange(0,10)\n",
        "C = random.randrange(0,10)\n",
        "D = random.randrange(0,10)\n",
        "print('A = ', A)\n",
        "print('B = ', B)\n",
        "print('C = ', C)\n",
        "print('D = ', D)\n",
        "print(\"AB\")\n",
        "Mean(A,B,R)\n",
        "print('AMean', R['AMean'])\n",
        "print('GMean', R['GMean'])\n",
        "print(\"AC\")\n",
        "Mean(A,C,R)\n",
        "print('AMean', R['AMean'])\n",
        "print('GMean', R['GMean'])\n",
        "print(\"AD\")\n",
        "Mean(A,D,R)\n",
        "print('AMean', R['AMean'])\n",
        "print('GMean', R['GMean'])"
      ],
      "metadata": {
        "colab": {
          "base_uri": "https://localhost:8080/"
        },
        "id": "vGyL8xTwpMTK",
        "outputId": "1920414c-582e-4b9b-9783-0d842c451746"
      },
      "execution_count": 8,
      "outputs": [
        {
          "output_type": "stream",
          "name": "stdout",
          "text": [
            "A =  7\n",
            "B =  9\n",
            "C =  1\n",
            "D =  5\n",
            "AB\n",
            "AMean 8.0\n",
            "GMean 7.937253933193772\n",
            "AC\n",
            "AMean 4.0\n",
            "GMean 2.6457513110645907\n",
            "AD\n",
            "AMean 6.0\n",
            "GMean 5.916079783099616\n"
          ]
        }
      ]
    },
    {
      "cell_type": "markdown",
      "source": [
        "Proc 4. Описать процедуру TrianglePS(a, P, S), вычисляющую по стороне a равностороннего треугольника его периметр P=3⋅a\n",
        " и площадь S=a2⋅3–√/4\n",
        " (a — входной, P и S — выходные параметры; все параметры являются вещественными). С помощью этой процедуры найти периметры и площади трех равносторонних треугольников с данными сторонами."
      ],
      "metadata": {
        "id": "WoSxU3enpoAI"
      }
    },
    {
      "cell_type": "markdown",
      "source": [],
      "metadata": {
        "id": "1uvI9RUio1fk"
      }
    },
    {
      "cell_type": "code",
      "source": [
        "import random\n",
        "import math\n",
        "def TrianglePS(a,Result):\n",
        "   Result['P'] = 3 * a\n",
        "   Result['S'] = math.sqrt(3)/4 * a * a\n",
        "   return\n",
        "R = {'P' : None, 'S' : None}\n",
        "for i in range(3):\n",
        "    a = random.randrange(1,10)\n",
        "    print('a', a)\n",
        "    TrianglePS(a,R)\n",
        "    print('P', R['P'])\n",
        "    print('S', R['S'])\n",
        "    print()"
      ],
      "metadata": {
        "colab": {
          "base_uri": "https://localhost:8080/"
        },
        "id": "ljhEVvlRpqxb",
        "outputId": "3891177a-3540-4963-da20-16b9b25c5f4f"
      },
      "execution_count": 9,
      "outputs": [
        {
          "output_type": "stream",
          "name": "stdout",
          "text": [
            "a 6\n",
            "P 18\n",
            "S 15.588457268119896\n",
            "\n",
            "a 7\n",
            "P 21\n",
            "S 21.217622392718745\n",
            "\n",
            "a 9\n",
            "P 27\n",
            "S 35.07402885326976\n",
            "\n"
          ]
        }
      ]
    },
    {
      "cell_type": "markdown",
      "source": [
        "Proc 5. Описать процедуру RectPS(x1,y1,x2,y2,P,S)\n",
        ", вычисляющую периметр P и площадь S прямоугольника со сторонами, параллельными осям координат, по координатам (x1,y1)\n",
        ", (x2,y2)\n",
        " его противоположных вершин (x1,y1,x2,y2\n",
        " — входные, P и S — выходные параметры вещественного типа). С помощью этой процедуры найти периметры и площади трех прямоугольников с данными противоположными вершинами."
      ],
      "metadata": {
        "id": "xP22VyMJpv10"
      }
    },
    {
      "cell_type": "code",
      "source": [
        "import random\n",
        "def RectPS(x1,y1,x2,y2,Result):\n",
        "    a = abs(x1-x2)\n",
        "    b = abs(y1-y2)\n",
        "    print(\"a\", a)\n",
        "    print(\"b\", b)\n",
        "    Result['P'] = 2*(a+b)\n",
        "    Result['S'] = a*b\n",
        "    return\n",
        "x1, x2 = random.sample(range(-10, 10), 2)\n",
        "y1, y2 = random.sample(range(-10, 10), 2)\n",
        "print(\"x1\",x1,\"; y1\",y1)\n",
        "print(\"x2\",x2,\"; y2\",y2)\n",
        "R = {'P' : None, 'S' : None}\n",
        "RectPS(x1,y1,x2,y2,R)\n",
        "print('P = ', R['P'])\n",
        "print('S = ', R['S'])"
      ],
      "metadata": {
        "colab": {
          "base_uri": "https://localhost:8080/"
        },
        "id": "NQeE4ZIKpyV4",
        "outputId": "a2628d3b-74dd-40d5-ebbd-69d9d89b10ec"
      },
      "execution_count": 11,
      "outputs": [
        {
          "output_type": "stream",
          "name": "stdout",
          "text": [
            "x1 0 ; y1 4\n",
            "x2 7 ; y2 7\n",
            "a 7\n",
            "b 3\n",
            "P =  20\n",
            "S =  21\n"
          ]
        }
      ]
    },
    {
      "cell_type": "code",
      "source": [],
      "metadata": {
        "id": "S71mhj3Yo13A"
      },
      "execution_count": null,
      "outputs": []
    }
  ]
}