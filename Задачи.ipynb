{
  "nbformat": 4,
  "nbformat_minor": 0,
  "metadata": {
    "colab": {
      "provenance": [],
      "authorship_tag": "ABX9TyMFt8y5kTue/qGHmX6dWv1G",
      "include_colab_link": true
    },
    "kernelspec": {
      "name": "python3",
      "display_name": "Python 3"
    },
    "language_info": {
      "name": "python"
    }
  },
  "cells": [
    {
      "cell_type": "markdown",
      "metadata": {
        "id": "view-in-github",
        "colab_type": "text"
      },
      "source": [
        "<a href=\"https://colab.research.google.com/github/ccn700/HW/blob/main/%D0%97%D0%B0%D0%B4%D0%B0%D1%87%D0%B8.ipynb\" target=\"_parent\"><img src=\"https://colab.research.google.com/assets/colab-badge.svg\" alt=\"Open In Colab\"/></a>"
      ]
    },
    {
      "cell_type": "markdown",
      "source": [
        "1 Begin 1. Дана сторона квадрата a/ Найти его периметр P=4⋅a"
      ],
      "metadata": {
        "id": "MKfuUFPp-KPk"
      }
    },
    {
      "cell_type": "code",
      "execution_count": null,
      "metadata": {
        "id": "uUp_Jeu79tW1"
      },
      "outputs": [],
      "source": [
        "1 Begin 1. Дана сторона квадрата a\n",
        ". Найти его периметр P=4⋅a\n",
        "\n"
      ]
    },
    {
      "cell_type": "code",
      "source": [
        "a = int(input(\"(a): \"))\n",
        "P = 4*a\n",
        "print(\"P:\", P)"
      ],
      "metadata": {
        "colab": {
          "base_uri": "https://localhost:8080/"
        },
        "id": "1ZBkq6Y8934z",
        "outputId": "4376bb6f-82a0-416c-8989-785e9b1a07a3"
      },
      "execution_count": 5,
      "outputs": [
        {
          "output_type": "stream",
          "name": "stdout",
          "text": [
            "(a): 6\n",
            "P: 24\n"
          ]
        }
      ]
    },
    {
      "cell_type": "markdown",
      "source": [
        "Begin 2. Дана сторона квадрата a\n",
        ". Найти его площадь S=a2\n"
      ],
      "metadata": {
        "id": "sXc133YY-Vul"
      }
    },
    {
      "cell_type": "code",
      "source": [
        "a=int(input(\"(a): \"))\n",
        "S = a*a\n",
        "print(\"S: \", S)"
      ],
      "metadata": {
        "colab": {
          "base_uri": "https://localhost:8080/"
        },
        "id": "iR_pQOKy-VSY",
        "outputId": "455f5978-a8bc-4ee5-8220-99bc397520c5"
      },
      "execution_count": 7,
      "outputs": [
        {
          "output_type": "stream",
          "name": "stdout",
          "text": [
            "(a): 5\n",
            "S:  25\n"
          ]
        }
      ]
    },
    {
      "cell_type": "markdown",
      "source": [
        "Begin 3. Даны стороны прямоугольника a\n",
        " и b\n",
        ". Найти его площадь S=a⋅b\n",
        " и периметр P=2⋅(a+b)\n"
      ],
      "metadata": {
        "id": "ImdWYzhg-ii0"
      }
    },
    {
      "cell_type": "code",
      "source": [
        "import random\n",
        "\n",
        "a = random.randrange(1,10)\n",
        "print(\"a = \", a)\n",
        "b = random.randrange(1,10)\n",
        "print(\"b = \", b)\n",
        "S = a * b\n",
        "print(\"S = \", S)\n",
        "P = 2 * (a + b)\n",
        "print(\"P = \", P)"
      ],
      "metadata": {
        "colab": {
          "base_uri": "https://localhost:8080/"
        },
        "id": "n1cB70EH-jCS",
        "outputId": "705ce7ec-5082-4628-b1a1-e10cc75e23b4"
      },
      "execution_count": 9,
      "outputs": [
        {
          "output_type": "stream",
          "name": "stdout",
          "text": [
            "a =  6\n",
            "b =  3\n",
            "S =  18\n",
            "P =  18\n"
          ]
        }
      ]
    },
    {
      "cell_type": "markdown",
      "source": [
        "Begin 4. Дан диаметр окружности d\n",
        ". Найти ее длину L=π⋅d\n",
        ". В качестве значения π\n",
        " использовать 3.14."
      ],
      "metadata": {
        "id": "JUDWPzVS-yS6"
      }
    },
    {
      "cell_type": "code",
      "source": [
        "import math\n",
        "import random\n",
        "\n",
        "d = random.randrange(1,10)\n",
        "print(\"d = \", d)\n",
        "print(\"Пи = \", math.pi)\n",
        "L = math.pi * d\n",
        "print(\"L = \", L)"
      ],
      "metadata": {
        "colab": {
          "base_uri": "https://localhost:8080/"
        },
        "id": "QDjxHSxI-x5-",
        "outputId": "01eb274a-de01-4e1a-9570-c5c70821203b"
      },
      "execution_count": 10,
      "outputs": [
        {
          "output_type": "stream",
          "name": "stdout",
          "text": [
            "d =  4\n",
            "Пи =  3.141592653589793\n",
            "L =  12.566370614359172\n"
          ]
        }
      ]
    },
    {
      "cell_type": "markdown",
      "source": [
        "Begin 5. Дана длина ребра куба a\n",
        ". Найти объем куба V=a3\n",
        " и площадь его поверхности S=6⋅a2\n",
        "."
      ],
      "metadata": {
        "id": "--B4sgMB_H3X"
      }
    },
    {
      "cell_type": "code",
      "source": [
        "import random\n",
        "a = random.randrange(1,10)\n",
        "print(\"Ребро куба: \", a)\n",
        "V = a**3\n",
        "print(\"Объем: \", V)\n",
        "S = 6 * a**2\n",
        "print(\"Площадь поверхности: \", S)"
      ],
      "metadata": {
        "colab": {
          "base_uri": "https://localhost:8080/"
        },
        "id": "wkUtf6X5_Kq6",
        "outputId": "91f40cdd-00ff-43e6-826e-f8ddf2459b46"
      },
      "execution_count": 11,
      "outputs": [
        {
          "output_type": "stream",
          "name": "stdout",
          "text": [
            "Ребро куба:  3\n",
            "Объем:  27\n",
            "Площадь поверхности:  54\n"
          ]
        }
      ]
    },
    {
      "cell_type": "markdown",
      "source": [
        "Integer 1. Дано расстояние L в сантиметрах. Используя операцию деления нацело, найти количество полных метров в нем (1 метр = 100 см)."
      ],
      "metadata": {
        "id": "KyHZ4G7D_ViR"
      }
    },
    {
      "cell_type": "code",
      "source": [
        "L = int(input(\"L: \"))\n",
        "m = int(L / 100)\n",
        "print(\"Количество полных метров: \", m)"
      ],
      "metadata": {
        "colab": {
          "base_uri": "https://localhost:8080/"
        },
        "id": "kKnxaNUX_WFm",
        "outputId": "8866f1ef-1154-42ac-ff51-2dd29931ee47"
      },
      "execution_count": 12,
      "outputs": [
        {
          "output_type": "stream",
          "name": "stdout",
          "text": [
            "(L): 5\n",
            "Количество полных метров:  0\n"
          ]
        }
      ]
    },
    {
      "cell_type": "markdown",
      "source": [
        "Integer 2. Дана масса M в килограммах. Используя операцию деления нацело, найти количество полных тонн в ней (1 тонна = 1000 кг)."
      ],
      "metadata": {
        "id": "uGeohd7o_jw4"
      }
    },
    {
      "cell_type": "code",
      "source": [
        "M = int(input(\"M: \"))\n",
        "m = int(M / 1000)\n",
        "print(m)"
      ],
      "metadata": {
        "colab": {
          "base_uri": "https://localhost:8080/"
        },
        "id": "Yf4O2-Gr_kc1",
        "outputId": "9a5d77ea-a95d-4650-ac60-8e8681b89d81"
      },
      "execution_count": 16,
      "outputs": [
        {
          "output_type": "stream",
          "name": "stdout",
          "text": [
            "M: 9\n",
            "0\n"
          ]
        }
      ]
    },
    {
      "cell_type": "markdown",
      "source": [
        "Integer 3. Дан размер файла в байтах. Используя операцию деления нацело, найти количество полных килобайтов, которые занимает данный файл (1 килобайт = 1024 байта)."
      ],
      "metadata": {
        "id": "ruvGTzpW_ziI"
      }
    },
    {
      "cell_type": "code",
      "source": [
        "import random\n",
        "s = random.randrange(1,1000000)\n",
        "print(s)\n",
        "print(int(s / 1024))"
      ],
      "metadata": {
        "colab": {
          "base_uri": "https://localhost:8080/"
        },
        "id": "vVA4uDtA_1iY",
        "outputId": "beeb5ba9-86bc-409a-dac4-28618b04b9b3"
      },
      "execution_count": 17,
      "outputs": [
        {
          "output_type": "stream",
          "name": "stdout",
          "text": [
            "556281\n",
            "543\n"
          ]
        }
      ]
    },
    {
      "cell_type": "markdown",
      "source": [
        "Integer 4. Даны целые положительные числа A и B (A > B). На отрезке длины A размещено максимально возможное количество отрезков длины B (без наложений). Используя операцию деления нацело, найти количество отрезков B, размещенных на отрезке A."
      ],
      "metadata": {
        "id": "N8a2RGNc_9uC"
      }
    },
    {
      "cell_type": "code",
      "source": [
        "import random\n",
        "A = random.randrange(1,100)\n",
        "B = random.randrange(1,A)\n",
        "print(\"A = \", A)\n",
        "print(\"B = \", B)\n",
        "x = int(A/B)\n",
        "print(x)"
      ],
      "metadata": {
        "colab": {
          "base_uri": "https://localhost:8080/"
        },
        "id": "nBq-uAb5AAtp",
        "outputId": "59f76842-54c7-4b4c-a642-63616242af03"
      },
      "execution_count": 18,
      "outputs": [
        {
          "output_type": "stream",
          "name": "stdout",
          "text": [
            "A =  62\n",
            "B =  24\n",
            "2\n"
          ]
        }
      ]
    },
    {
      "cell_type": "markdown",
      "source": [
        "Integer 5. Даны целые положительные числа A и B (A > B). На отрезке длины A размещено максимально возможное количество отрезков длины B (без наложений). Используя операцию взятия остатка от деления нацело, найти длину незанятой части отрезка A."
      ],
      "metadata": {
        "id": "NIR5I7-WAG4B"
      }
    },
    {
      "cell_type": "code",
      "source": [
        "import random\n",
        "A = random.randrange(1,100)\n",
        "B = random.randrange(1,A)\n",
        "print(\"A = \", A)\n",
        "print(\"B = \", B)\n",
        "x = A%B\n",
        "print(x)"
      ],
      "metadata": {
        "colab": {
          "base_uri": "https://localhost:8080/"
        },
        "id": "naO1skWQAJFt",
        "outputId": "78727821-8a28-494d-bfd5-b8c009b56ac8"
      },
      "execution_count": 19,
      "outputs": [
        {
          "output_type": "stream",
          "name": "stdout",
          "text": [
            "A =  81\n",
            "B =  55\n",
            "26\n"
          ]
        }
      ]
    },
    {
      "cell_type": "markdown",
      "source": [
        "Boolean 1. Дано целое число A. Проверить истинность высказывания: «Число A является положительным»."
      ],
      "metadata": {
        "id": "MPx0QH3XAO8Q"
      }
    },
    {
      "cell_type": "code",
      "source": [
        "A = float(input(\"A: \"))\n",
        "print(A > 0)"
      ],
      "metadata": {
        "colab": {
          "base_uri": "https://localhost:8080/"
        },
        "id": "FP9YWkppAUtj",
        "outputId": "4c09eb14-305e-4715-d9cd-a9c437a8a755"
      },
      "execution_count": 24,
      "outputs": [
        {
          "output_type": "stream",
          "name": "stdout",
          "text": [
            "A: 0\n",
            "False\n"
          ]
        }
      ]
    },
    {
      "cell_type": "markdown",
      "source": [
        "Boolean 2. Дано целое число A. Проверить истинность высказывания: «Число A является нечетным»."
      ],
      "metadata": {
        "id": "GGd8goUYAi_J"
      }
    },
    {
      "cell_type": "code",
      "source": [
        "A = float(input(\"A:\"))\n",
        "x = A % 2\n",
        "print(x == 1)"
      ],
      "metadata": {
        "colab": {
          "base_uri": "https://localhost:8080/"
        },
        "id": "OzUp1l-2Al2u",
        "outputId": "69efe48c-d771-4a73-bf31-44b7e5958e7c"
      },
      "execution_count": 31,
      "outputs": [
        {
          "output_type": "stream",
          "name": "stdout",
          "text": [
            "A:0\n",
            "False\n"
          ]
        }
      ]
    },
    {
      "cell_type": "markdown",
      "source": [
        "Boolean 3. Дано целое число A. Проверить истинность высказывания: «Число A является четным»."
      ],
      "metadata": {
        "id": "U7su7AS9A3SE"
      }
    },
    {
      "cell_type": "code",
      "source": [
        "import random\n",
        "A = random.randrange(1,100)\n",
        "print(\"A\", A)\n",
        "x = A % 2\n",
        "print(x == 0)"
      ],
      "metadata": {
        "colab": {
          "base_uri": "https://localhost:8080/"
        },
        "id": "U2H5oRKlA5tn",
        "outputId": "00f4da2d-7c00-4760-8de5-b7239a7282e4"
      },
      "execution_count": 32,
      "outputs": [
        {
          "output_type": "stream",
          "name": "stdout",
          "text": [
            "A 33\n",
            "False\n"
          ]
        }
      ]
    },
    {
      "cell_type": "markdown",
      "source": [
        "Boolean 4. Даны два целых числа: A, B. Проверить истинность высказывания: «Справедливы неравенства A>2\n",
        " и B≤3\n",
        "»."
      ],
      "metadata": {
        "id": "-CJeJWCpBCmN"
      }
    },
    {
      "cell_type": "code",
      "source": [
        "import random\n",
        "A = random.randrange(-10,10)\n",
        "B = random.randrange(-10,10)\n",
        "print(\"A = \", A)\n",
        "print(\"B = \", B)\n",
        "x = (A>2) and (B<=3)\n",
        "print(\"A > 2: \", (A>2))\n",
        "print(\"B <=3: \", (B<=3))\n",
        "print(\"A > 2 и B <=3: \", x)"
      ],
      "metadata": {
        "colab": {
          "base_uri": "https://localhost:8080/"
        },
        "id": "B3k-_aUSBFwR",
        "outputId": "0001b947-a29d-4997-f0a8-53c8ae2499e7"
      },
      "execution_count": 33,
      "outputs": [
        {
          "output_type": "stream",
          "name": "stdout",
          "text": [
            "A =  -7\n",
            "B =  -2\n",
            "A > 2:  False\n",
            "B <=3:  True\n",
            "A > 2 и B <=3:  False\n"
          ]
        }
      ]
    },
    {
      "cell_type": "markdown",
      "source": [
        "Boolean 5. Даны два целых числа: A, B. Проверить истинность высказывания: «Справедливы неравенства A≥0\n",
        " или B<−2\n",
        "»."
      ],
      "metadata": {
        "id": "iDWS01tqBIrz"
      }
    },
    {
      "cell_type": "code",
      "source": [
        "import random\n",
        "A = random.randrange(-10,10)\n",
        "B = random.randrange(-10,10)\n",
        "print(\"A = \", A)\n",
        "print(\"B = \", B)\n",
        "x = (A>=0) or (B<-2)\n",
        "print(\"A >= 0: \", (A>=0))\n",
        "print(\"B < -2: \", (B<-2))\n",
        "print(\"A>=0 или B<-2: \", x)"
      ],
      "metadata": {
        "colab": {
          "base_uri": "https://localhost:8080/"
        },
        "id": "I3DG3k67BLt1",
        "outputId": "303278f0-be3f-4636-9b19-514051d9abb4"
      },
      "execution_count": 34,
      "outputs": [
        {
          "output_type": "stream",
          "name": "stdout",
          "text": [
            "A =  -4\n",
            "B =  6\n",
            "A >= 0:  False\n",
            "B < -2:  False\n",
            "A>=0 или B<-2:  False\n"
          ]
        }
      ]
    },
    {
      "cell_type": "markdown",
      "source": [
        "If 01. Дано целое число. Если оно является положительным, то прибавить к нему 1; в противном случае не изменять его. Вывести полученное число."
      ],
      "metadata": {
        "id": "PrtETx01BRYo"
      }
    },
    {
      "cell_type": "code",
      "source": [
        "A = int(input(\"Введите число: \"))\n",
        "if A > 0:\n",
        "    A += 1\n",
        "print(A)"
      ],
      "metadata": {
        "colab": {
          "base_uri": "https://localhost:8080/"
        },
        "id": "ZLK3In2FBXh7",
        "outputId": "0feabb3f-7598-4717-eae2-93f0dc0914dd"
      },
      "execution_count": 35,
      "outputs": [
        {
          "output_type": "stream",
          "name": "stdout",
          "text": [
            "Введите число: 8\n",
            "9\n"
          ]
        }
      ]
    },
    {
      "cell_type": "markdown",
      "source": [
        "If 02. Дано целое число. Если оно является положительным, то прибавить к нему 1; в противном случае вычесть из него 2. Вывести полученное число."
      ],
      "metadata": {
        "id": "GMPjq7jFBn--"
      }
    },
    {
      "cell_type": "code",
      "source": [
        "A = int(input(\"Введите число: \"))\n",
        "if A > 0:\n",
        "    A += 1\n",
        "else:\n",
        "    A -= 2\n",
        "print(A)"
      ],
      "metadata": {
        "colab": {
          "base_uri": "https://localhost:8080/"
        },
        "id": "nWyFyYHTBp6P",
        "outputId": "10b8101e-2a08-4d4d-b1d5-5827bcfa206e"
      },
      "execution_count": 36,
      "outputs": [
        {
          "output_type": "stream",
          "name": "stdout",
          "text": [
            "Введите число: 56\n",
            "57\n"
          ]
        }
      ]
    },
    {
      "cell_type": "markdown",
      "source": [
        "If 03. Дано целое число. Если оно является положительным, то прибавить к нему 1; если отрицательным, то вычесть из него 2; если нулевым, то заменить его на 10. Вывести полученное число."
      ],
      "metadata": {
        "id": "_vSq1ajtBxpq"
      }
    },
    {
      "cell_type": "code",
      "source": [
        "import random\n",
        "A = random.randrange(-3,3)\n",
        "print(\"Число:\", A)\n",
        "if A > 0:\n",
        "    A += 1\n",
        "elif A < 0:\n",
        "    A -=2\n",
        "else:\n",
        "    A = 10\n",
        "print(A)"
      ],
      "metadata": {
        "colab": {
          "base_uri": "https://localhost:8080/"
        },
        "id": "W_zdxI0VByG1",
        "outputId": "4215052d-09d9-4e60-9a0b-484fac7f7e5e"
      },
      "execution_count": 37,
      "outputs": [
        {
          "output_type": "stream",
          "name": "stdout",
          "text": [
            "Число: -1\n",
            "-3\n"
          ]
        }
      ]
    },
    {
      "cell_type": "markdown",
      "source": [
        "If 04. Даны три целых числа. Найти количество положительных чисел в исходном наборе."
      ],
      "metadata": {
        "id": "W6Ga-pHDB2nX"
      }
    },
    {
      "cell_type": "code",
      "source": [
        "import random\n",
        "A = random.randrange(-3,3)\n",
        "B = random.randrange(-3,3)\n",
        "C = random.randrange(-3,3)\n",
        "print(\"Три числа:\", A, B, C)\n",
        "x = 0\n",
        "if A > 0:\n",
        "    x += 1\n",
        "if B > 0:\n",
        "    x += 1\n",
        "if C > 0:\n",
        "    x += 1\n",
        "print(\"Количество положительных чисел: \", x)"
      ],
      "metadata": {
        "colab": {
          "base_uri": "https://localhost:8080/"
        },
        "id": "Asj1JqcXB3FM",
        "outputId": "9d1bf30b-4032-4d6b-8901-d71c5499cac8"
      },
      "execution_count": 38,
      "outputs": [
        {
          "output_type": "stream",
          "name": "stdout",
          "text": [
            "Три числа: 1 0 0\n",
            "Количество положительных чисел:  1\n"
          ]
        }
      ]
    },
    {
      "cell_type": "markdown",
      "source": [
        "If 05. Даны три целых числа. Найти количество положительных и количество отрицательных чисел в исходном наборе."
      ],
      "metadata": {
        "id": "KBkFCQdBB6DZ"
      }
    },
    {
      "cell_type": "code",
      "source": [
        "import random\n",
        "A = random.randrange(-3,3)\n",
        "B = random.randrange(-3,3)\n",
        "C = random.randrange(-3,3)\n",
        "print(\"Три числа:\", A, B, C)\n",
        "x = 0\n",
        "if A > 0:\n",
        "    x += 1\n",
        "if B > 0:\n",
        "    x += 1\n",
        "if C > 0:\n",
        "    x += 1\n",
        "print(\"Количество положительных чисел: \", x)\n",
        "y = 0\n",
        "if A < 0:\n",
        "    y += 1\n",
        "if B < 0:\n",
        "    y += 1\n",
        "if C < 0:\n",
        "    y += 1\n",
        "print(\"Количество отрицательных чисел: \", y)"
      ],
      "metadata": {
        "colab": {
          "base_uri": "https://localhost:8080/"
        },
        "id": "qngomRQmB7zK",
        "outputId": "c3b2ec16-baf0-4876-9802-4b42b039c7d7"
      },
      "execution_count": 43,
      "outputs": [
        {
          "output_type": "stream",
          "name": "stdout",
          "text": [
            "Три числа: 0 -3 -3\n",
            "Количество положительных чисел:  0\n",
            "Количество отрицательных чисел:  2\n"
          ]
        }
      ]
    },
    {
      "cell_type": "markdown",
      "source": [
        "For 1. Даны целые числа K и N (N > 0). Вывести N раз число K."
      ],
      "metadata": {
        "id": "HkdD8p5wCU42"
      }
    },
    {
      "cell_type": "code",
      "source": [
        "import random\n",
        "N = random.randrange(10)+1\n",
        "#K = random.uniform(-10, 10)\n",
        "K = random.randrange(-10, 10)\n",
        "print('K = ', K)\n",
        "print('N = ', N)\n",
        "for i in range(0, N):\n",
        "    print(i+1,\" : \",K)"
      ],
      "metadata": {
        "id": "KYyMlzyaCVpm"
      },
      "execution_count": null,
      "outputs": []
    },
    {
      "cell_type": "markdown",
      "source": [
        "For 2. Даны два целых числа A и B (A < B). Вывести в порядке возрастания все целые числа, расположенные между A и B (включая сами числа A и B), а также количество N этих чисел."
      ],
      "metadata": {
        "id": "klBrcq_SCX-Q"
      }
    },
    {
      "cell_type": "code",
      "source": [
        "import random\n",
        "A = random.randrange(10)\n",
        "n = random.randrange(10)+1\n",
        "B = A + n\n",
        "print('A = ', A)\n",
        "print('B = ', B)\n",
        "N = 0\n",
        "for i in range(A,B+1,1):\n",
        "    N +=1\n",
        "    print(i,\" : \",N)\n",
        "print(\"N = \",N)"
      ],
      "metadata": {
        "id": "JqM7IXfbCZ_x"
      },
      "execution_count": null,
      "outputs": []
    },
    {
      "cell_type": "markdown",
      "source": [
        "For 3. Даны два целых числа A и B (A < B). Вывести в порядке убывания все целые числа, расположенные между A и B (не включая числа A и B), а также количество N этих чисел."
      ],
      "metadata": {
        "id": "w37DIKAlCig5"
      }
    },
    {
      "cell_type": "code",
      "source": [
        "import random\n",
        "B = random.randrange(2,20)\n",
        "A= random.randrange(1,B)\n",
        "\n",
        "print('A = ', A)\n",
        "print('B = ', B)\n",
        "N = 0\n",
        "for i in range(B-1, A, -1):\n",
        "    print(i,end=' ')\n",
        "    N += 1\n",
        "print()\n",
        "print(\"N = \", N)"
      ],
      "metadata": {
        "id": "2-YrilapCkn3"
      },
      "execution_count": null,
      "outputs": []
    },
    {
      "cell_type": "markdown",
      "source": [
        "For 4. Дано вещественное число — цена 1 кг конфет. Вывести стоимость 1, 2, ... , 10 кг конфет."
      ],
      "metadata": {
        "id": "AGpazQnVCmTq"
      }
    },
    {
      "cell_type": "code",
      "source": [
        "import random\n",
        "price = round(random.uniform(0, 100),2)\n",
        "print('Цена 1 кг конфет: ', price)\n",
        "print()\n",
        "for i in range(1,11):\n",
        "    print(\"Стоимость \", i, 'кг: {0:.2f}'.format(i * price))"
      ],
      "metadata": {
        "id": "0a2jh_7aCoSh"
      },
      "execution_count": null,
      "outputs": []
    },
    {
      "cell_type": "markdown",
      "source": [
        "For 5. Дано вещественное число — цена 1 кг конфет. Вывести стоимость 0.1, 0.2, ... , 1 кг конфет."
      ],
      "metadata": {
        "id": "7kUGcfHaCqIn"
      }
    },
    {
      "cell_type": "code",
      "source": [
        "import random\n",
        "price = round(random.uniform(0, 100),2)\n",
        "print('Цена 1 кг конфет: ', price)\n",
        "print()\n",
        "for i in range(1,11):\n",
        "    x = 0.1*i\n",
        "    print('Стоимость {0:.1f} кг: {1:.2f}'.format(x, x * price))\n",
        "print()"
      ],
      "metadata": {
        "colab": {
          "base_uri": "https://localhost:8080/"
        },
        "id": "4zXxpjJXCsHr",
        "outputId": "dc12adea-0160-46fd-e9db-906b79723a87"
      },
      "execution_count": 44,
      "outputs": [
        {
          "output_type": "stream",
          "name": "stdout",
          "text": [
            "Цена 1 кг конфет:  53.34\n",
            "\n",
            "Стоимость 0.1 кг: 5.33\n",
            "Стоимость 0.2 кг: 10.67\n",
            "Стоимость 0.3 кг: 16.00\n",
            "Стоимость 0.4 кг: 21.34\n",
            "Стоимость 0.5 кг: 26.67\n",
            "Стоимость 0.6 кг: 32.00\n",
            "Стоимость 0.7 кг: 37.34\n",
            "Стоимость 0.8 кг: 42.67\n",
            "Стоимость 0.9 кг: 48.01\n",
            "Стоимость 1.0 кг: 53.34\n",
            "\n"
          ]
        }
      ]
    },
    {
      "cell_type": "markdown",
      "source": [
        "While 1. Даны положительные числа A и B (A > B). На отрезке длины A размещено максимально возможное количество отрезков длины B (без наложений). Не используя операции умножения и деления, найти длину незанятой части отрезка A."
      ],
      "metadata": {
        "id": "2cvpMvgPCvd8"
      }
    },
    {
      "cell_type": "code",
      "source": [
        "import random\n",
        "A = random.randrange(50,100)\n",
        "B = random.randrange(1,A)\n",
        "print('A = ', A)\n",
        "print('B = ', B)\n",
        "r = A - B\n",
        "while r >= B:\n",
        "    r -= B\n",
        "print(\"Остаток: \", r)"
      ],
      "metadata": {
        "colab": {
          "base_uri": "https://localhost:8080/"
        },
        "id": "0A_-lJRWC65B",
        "outputId": "950823bc-dddd-490b-db47-b16a017eeab6"
      },
      "execution_count": 45,
      "outputs": [
        {
          "output_type": "stream",
          "name": "stdout",
          "text": [
            "A =  54\n",
            "B =  18\n",
            "Остаток:  0\n"
          ]
        }
      ]
    },
    {
      "cell_type": "markdown",
      "source": [
        "While 2. Даны положительные числа A и B (A > B). На отрезке длины A размещено максимально возможное количество отрезков длины B (без наложений). Не используя операции умножения и деления, найти количество отрезков B, размещенных на отрезке A."
      ],
      "metadata": {
        "id": "UbKfNu7KDCeC"
      }
    },
    {
      "cell_type": "code",
      "source": [
        "import random\n",
        "A = random.randrange(50,100)\n",
        "B = random.randrange(1,A)\n",
        "print('A = ', A)\n",
        "print('B = ', B)\n",
        "r = A - B\n",
        "n = 1\n",
        "while r >= B:\n",
        "    r -= B\n",
        "    n += 1\n",
        "print(\"Количество размещений B в A: \", n)\n",
        "print(\"Остаток: \", r)"
      ],
      "metadata": {
        "colab": {
          "base_uri": "https://localhost:8080/"
        },
        "id": "JHzrJ2xNDC4b",
        "outputId": "bfe88572-8a35-4572-8a0f-1cf29f36d248"
      },
      "execution_count": 46,
      "outputs": [
        {
          "output_type": "stream",
          "name": "stdout",
          "text": [
            "A =  89\n",
            "B =  11\n",
            "Количество размещений B в A:  8\n",
            "Остаток:  1\n"
          ]
        }
      ]
    },
    {
      "cell_type": "markdown",
      "source": [
        "While 3. Даны целые положительные числа N и K. Используя только операции сложения и вычитания, найти частное от деления нацело N на K, а также остаток от этого деления."
      ],
      "metadata": {
        "id": "lmr82cU-DLr1"
      }
    },
    {
      "cell_type": "code",
      "source": [
        "import random\n",
        "N = random.randrange(1,99)\n",
        "K = random.randrange(1,99)\n",
        "print('N = ', N)\n",
        "print('K = ', K)\n",
        "r = N\n",
        "q = 0\n",
        "while r >= K:\n",
        "    r -= K\n",
        "    q += 1\n",
        "print(\"Частное: \", q)\n",
        "print(\"Остаток: \", r)"
      ],
      "metadata": {
        "colab": {
          "base_uri": "https://localhost:8080/"
        },
        "id": "QIVrI7UTDMTe",
        "outputId": "b01981bf-756f-40c8-b591-85903cff3c97"
      },
      "execution_count": 47,
      "outputs": [
        {
          "output_type": "stream",
          "name": "stdout",
          "text": [
            "N =  86\n",
            "K =  71\n",
            "Частное:  1\n",
            "Остаток:  15\n"
          ]
        }
      ]
    },
    {
      "cell_type": "markdown",
      "source": [
        "While 4. Дано целое число N (> 0). Если оно является степенью числа 3, то вывести TRUE, если не является — вывести FALSE."
      ],
      "metadata": {
        "id": "NYocF6J0DPO5"
      }
    },
    {
      "cell_type": "code",
      "source": [
        "import random\n",
        "#N = random.randrange(1,1000)\n",
        "N = 81\n",
        "print('N = ', N)\n",
        "while N >= 3:\n",
        "    N /= 3\n",
        "print((N==1))"
      ],
      "metadata": {
        "colab": {
          "base_uri": "https://localhost:8080/"
        },
        "id": "v8DYF_M1DQ2p",
        "outputId": "aac78943-9190-4f45-92bc-040333933e93"
      },
      "execution_count": 49,
      "outputs": [
        {
          "output_type": "stream",
          "name": "stdout",
          "text": [
            "N =  81\n",
            "True\n"
          ]
        }
      ]
    },
    {
      "cell_type": "markdown",
      "source": [
        "While 5. Дано целое число N (> 0), являющееся некоторой степенью числа 2: N=2K\n",
        ". Найти целое число K — показатель этой степени."
      ],
      "metadata": {
        "id": "nlE7jW-aDXq7"
      }
    },
    {
      "cell_type": "code",
      "source": [
        "import random\n",
        "K = random.randrange(1,30)\n",
        "N = 2 ** K\n",
        "print('K = ', K)\n",
        "print('N = ', N)\n",
        "K_new = 0\n",
        "while N >= 2:\n",
        "    N /= 2\n",
        "    K_new += 1\n",
        "print(\"K = \", K_new)"
      ],
      "metadata": {
        "colab": {
          "base_uri": "https://localhost:8080/"
        },
        "id": "1JuU7u7XDZa-",
        "outputId": "98875995-206e-487e-ee1c-255a77f1b194"
      },
      "execution_count": 50,
      "outputs": [
        {
          "output_type": "stream",
          "name": "stdout",
          "text": [
            "K =  21\n",
            "N =  2097152\n",
            "K =  21\n"
          ]
        }
      ]
    },
    {
      "cell_type": "markdown",
      "source": [],
      "metadata": {
        "id": "Q8aVlgo8C3Mn"
      }
    },
    {
      "cell_type": "markdown",
      "source": [],
      "metadata": {
        "id": "Fk9FN6AD-xmG"
      }
    },
    {
      "cell_type": "markdown",
      "source": [],
      "metadata": {
        "id": "C0kc36FF-U9W"
      }
    }
  ]
}